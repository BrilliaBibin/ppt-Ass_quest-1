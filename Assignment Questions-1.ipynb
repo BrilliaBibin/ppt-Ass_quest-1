{
 "cells": [
  {
   "cell_type": "markdown",
   "id": "edff4d26",
   "metadata": {},
   "source": [
    "Q1. Given an array of integers nums and an integer target, return indices of the two numbers such that they add up to target.\n",
    "\n",
    "You may assume that each input would have exactly one solution, and you may not use the same element twice.\n",
    "\n",
    "You can return the answer in any order.\n",
    "\n",
    "**Example:**\n",
    "Input: nums = [2,7,11,15], target = 9\n",
    "Output0 [0,1]\n",
    "\n",
    "**Explanation:** Because nums[0] + nums[1] == 9, we return [0, 1][\n"
   ]
  },
  {
   "cell_type": "code",
   "execution_count": 3,
   "id": "8ac14b97",
   "metadata": {},
   "outputs": [],
   "source": [
    "def twoSum(nums, target):\n",
    "    count = 0\n",
    "    i = 0\n",
    "    while count < len(nums):\n",
    "        temp = 0\n",
    "        if i == count:\n",
    "            i += 1\n",
    "        else:\n",
    "            temp = nums[count] + nums[i]\n",
    "            if temp == target and i < count:\n",
    "                return [i,count]\n",
    "            i += 1\n",
    "        if i == len(nums)-1:\n",
    "            i = 0\n",
    "            count += 1"
   ]
  },
  {
   "cell_type": "code",
   "execution_count": 4,
   "id": "0b5efef2",
   "metadata": {},
   "outputs": [
    {
     "data": {
      "text/plain": [
       "[0, 1]"
      ]
     },
     "execution_count": 4,
     "metadata": {},
     "output_type": "execute_result"
    }
   ],
   "source": [
    "twoSum([2,7,11,15],9)"
   ]
  },
  {
   "cell_type": "markdown",
   "id": "a8002751",
   "metadata": {},
   "source": [
    "Q2. Given an integer array nums and an integer val, remove all occurrences of val in nums in-place. The order of the elements may be changed. Then return the number of elements in nums which are not equal to val.\n",
    "\n",
    "Consider the number of elements in nums which are not equal to val be k, to get accepted, you need to do the following things:\n",
    "\n",
    "- Change the array nums such that the first k elements of nums contain the elements which are not equal to val. The remaining elements of nums are not important as well as the size of nums.\n",
    "- Return k.\n",
    "\n",
    "**Example :**\n",
    "Input: nums = [3,2,2,3], val = 3\n",
    "Output: 2, nums = [2,2,_*,_*]\n",
    "\n",
    "**Explanation:** Your function should return k = 2, with the first two elements of nums being 2. It does not matter what you leave beyond the returned k (hence they are underscores)\n",
    "\n"
   ]
  },
  {
   "cell_type": "code",
   "execution_count": 14,
   "id": "a2094353",
   "metadata": {},
   "outputs": [],
   "source": [
    "def removeElement(self, nums, val):\n",
    "    count = 0;\n",
    "    for i in nums:\n",
    "        if nums[i] == val:\n",
    "            temp = nums[count]\n",
    "            nums[count] = nums[i]\n",
    "            nums[i] = temp\n",
    "\n",
    "            count=count+1\n",
    "    nums = nums[count:]\n",
    "    return len(nums)"
   ]
  },
  {
   "cell_type": "code",
   "execution_count": 16,
   "id": "d997f238",
   "metadata": {},
   "outputs": [
    {
     "data": {
      "text/plain": [
       "2"
      ]
     },
     "execution_count": 16,
     "metadata": {},
     "output_type": "execute_result"
    }
   ],
   "source": [
    "removeElement(2,[3,2,2,3],3)"
   ]
  },
  {
   "cell_type": "markdown",
   "id": "f67055c6",
   "metadata": {},
   "source": [
    "Q3. Given a sorted array of distinct integers and a target value, return the index if the target is found. If not, return the index where it would be if it were inserted in order.\n",
    "\n",
    "You must write an algorithm with O(log n) runtime complexity.\n",
    "\n",
    "**Example 1:**\n",
    "Input: nums = [1,3,5,6], target = 5\n",
    "\n",
    "Output: 2\n"
   ]
  },
  {
   "cell_type": "markdown",
   "id": "ad7749ed",
   "metadata": {},
   "source": [
    " Algorithm\n",
    "\n",
    "1,Create a binarySearch() function that returns the required index\n",
    "\n",
    "2.Set lower and upper bounds as 0 and n-1 respectively, such that n = size of the array\n",
    "\n",
    "3.While start <= end\n",
    "\n",
    "4.Find the middle index of these limits as mid = (start + end) // 2\n",
    "\n",
    "5.If nums[mid] == target, return mid\n",
    "\n",
    "6.In case the value is smaller, we move to the right half using start = mid + 1\n",
    "\n",
    "7.In case the value is greater, we move to the left half using right = mid — 1\n",
    "\n",
    "8.Return the insert position end + 1"
   ]
  },
  {
   "cell_type": "code",
   "execution_count": 18,
   "id": "ad146e1f",
   "metadata": {},
   "outputs": [],
   "source": [
    "def searchInsert(self, nums, target):\n",
    "   # Lower and upper bounds\n",
    "   start = 0\n",
    "   end = len(nums) - 1\n",
    " \n",
    "   # Traverse the search space\n",
    "   while start <= end:\n",
    " \n",
    "      mid =(start + end)//2\n",
    " \n",
    "      if nums[mid] == target:\n",
    "         return mid\n",
    "      elif nums[mid] < target:\n",
    "         start = mid + 1\n",
    "      else:\n",
    "         end = mid-1\n",
    " \n",
    "   # Return the insert position\n",
    "   return end + 1"
   ]
  },
  {
   "cell_type": "code",
   "execution_count": 19,
   "id": "1f261ec6",
   "metadata": {},
   "outputs": [
    {
     "data": {
      "text/plain": [
       "2"
      ]
     },
     "execution_count": 19,
     "metadata": {},
     "output_type": "execute_result"
    }
   ],
   "source": [
    "searchInsert(2,[1,3,5,6],5)"
   ]
  },
  {
   "cell_type": "markdown",
   "id": "97f16d50",
   "metadata": {},
   "source": [
    "Complexity\n",
    "\n",
    "Time Complexity\n",
    "O(log n)\n",
    "\n",
    "Space Complexity\n",
    "O(1)"
   ]
  },
  {
   "cell_type": "markdown",
   "id": "a520a215",
   "metadata": {},
   "source": [
    "Q4. You are given a large integer represented as an integer array digits, where each digits[i] is the ith digit of the integer. The digits are ordered from most significant to least significant in left-to-right order. The large integer does not contain any leading 0's.\n",
    "\n",
    "Increment the large integer by one and return the resulting array of digits.\n",
    "\n",
    "**Example 1:**\n",
    "Input: digits = [1,2,3]\n",
    "Output: [1,2,4]\n",
    "\n",
    "**Explanation:** The array represents the integer 123.\n",
    "\n",
    "Incrementing by one gives 123 + 1 = 124.\n",
    "Thus, the result should be [1,2,4].\n"
   ]
  },
  {
   "cell_type": "code",
   "execution_count": 25,
   "id": "c29cc7a6",
   "metadata": {},
   "outputs": [],
   "source": [
    "def plusOne(digits):\n",
    "    num = 0\n",
    "    for i in range(len(digits)):\n",
    "    \tnum += digits[i] * pow(10, (len(digits)-1-i))\n",
    "    return [int(i) for i in str(num+1)]"
   ]
  },
  {
   "cell_type": "code",
   "execution_count": 26,
   "id": "6c64820f",
   "metadata": {},
   "outputs": [
    {
     "data": {
      "text/plain": [
       "[1, 2, 4]"
      ]
     },
     "execution_count": 26,
     "metadata": {},
     "output_type": "execute_result"
    }
   ],
   "source": [
    "plusOne([1,2,3])"
   ]
  },
  {
   "cell_type": "markdown",
   "id": "799875b5",
   "metadata": {},
   "source": [
    "Q5. You are given two integer arrays nums1 and nums2, sorted in non-decreasing order, and two integers m and n, representing the number of elements in nums1 and nums2 respectively.\n",
    "\n",
    "Merge nums1 and nums2 into a single array sorted in non-decreasing order.\n",
    "\n",
    "The final sorted array should not be returned by the function, but instead be stored inside the array nums1. To accommodate this, nums1 has a length of m + n, where the first m elements denote the elements that should be merged, and the last n elements are set to 0 and should be ignored. nums2 has a length of n.\n",
    "\n",
    "**Example 1:**\n",
    "Input: nums1 = [1,2,3,0,0,0], m = 3, nums2 = [2,5,6], n = 3\n",
    "Output: [1,2,2,3,5,6]\n",
    "\n",
    "**Explanation:** The arrays we are merging are [1,2,3] and [2,5,6].\n",
    "The result of the merge is [1,2,2,3,5,6] with the underlined elements coming from nums1.\n"
   ]
  },
  {
   "cell_type": "code",
   "execution_count": 117,
   "id": "e53923ec",
   "metadata": {},
   "outputs": [],
   "source": [
    "def merge(self, nums1, m, nums2, n):\n",
    "        i=0\n",
    "        for x in range(len(nums1)):\n",
    "            if i>=n:\n",
    "                break\n",
    "            if nums1[x]==0:\n",
    "                nums1[x]=nums2[i]\n",
    "                i+=1           \n",
    "        nums1.sort()"
   ]
  },
  {
   "cell_type": "code",
   "execution_count": 124,
   "id": "0942af4a",
   "metadata": {},
   "outputs": [],
   "source": [
    "nums1=[1,2,3,0,0,0]\n",
    "m=3\n",
    "nums2=[2,5,6]\n",
    "n=3"
   ]
  },
  {
   "cell_type": "code",
   "execution_count": 125,
   "id": "2a8ac92b",
   "metadata": {},
   "outputs": [],
   "source": [
    "merge(None,nums1,m,nums2,n)"
   ]
  },
  {
   "cell_type": "code",
   "execution_count": 126,
   "id": "26c2cb0a",
   "metadata": {},
   "outputs": [
    {
     "name": "stdout",
     "output_type": "stream",
     "text": [
      "[1, 2, 2, 3, 5, 6]\n"
     ]
    }
   ],
   "source": [
    "print(nums1)"
   ]
  },
  {
   "cell_type": "markdown",
   "id": "58556294",
   "metadata": {},
   "source": [
    "Q6. Given an integer array nums, return true if any value appears at least twice in the array, and return false if every element is distinct.\n",
    "\n",
    "**Example 1:**\n",
    "Input: nums = [1,2,3,1]\n",
    "\n",
    "Output: true\n"
   ]
  },
  {
   "cell_type": "code",
   "execution_count": 128,
   "id": "417cd1a3",
   "metadata": {},
   "outputs": [],
   "source": [
    "def containsDuplicate(self, nums: [int]) -> bool:\n",
    "        s=set()\n",
    "        for ele in nums:\n",
    "            if ele in s:\n",
    "                return True\n",
    "            else:\n",
    "                s.add(ele)\n"
   ]
  },
  {
   "cell_type": "code",
   "execution_count": 129,
   "id": "b38a5723",
   "metadata": {},
   "outputs": [
    {
     "data": {
      "text/plain": [
       "True"
      ]
     },
     "execution_count": 129,
     "metadata": {},
     "output_type": "execute_result"
    }
   ],
   "source": [
    "containsDuplicate(None,[1,2,3,1])"
   ]
  },
  {
   "cell_type": "markdown",
   "id": "4a878a8e",
   "metadata": {},
   "source": [
    "Q7. Given an integer array nums, move all 0's to the end of it while maintaining the relative order of the nonzero elements.\n",
    "\n",
    "Note that you must do this in-place without making a copy of the array.\n",
    "\n",
    "**Example 1:**\n",
    "Input: nums = [0,1,0,3,12]\n",
    "Output: [1,3,12,0,0]\n"
   ]
  },
  {
   "cell_type": "code",
   "execution_count": 133,
   "id": "42489d31",
   "metadata": {},
   "outputs": [],
   "source": [
    "class Solution:\n",
    "    def moveZeroes(self, nums:[int]) -> None:\n",
    "        \"\"\"\n",
    "        Do not return anything, modify nums in-place instead.\n",
    "        \"\"\"\n",
    "        for i in range(len(nums)):\n",
    "            if(nums[i]==0):\n",
    "                nums.remove(nums[i])\n",
    "                nums.append(0)\n",
    "            else:\n",
    "                continue"
   ]
  },
  {
   "cell_type": "code",
   "execution_count": 138,
   "id": "f4fd3bfc",
   "metadata": {},
   "outputs": [
    {
     "name": "stdout",
     "output_type": "stream",
     "text": [
      "[1, 3, 12, 0, 0]\n"
     ]
    }
   ],
   "source": [
    "nums = [0, 1, 0, 3, 12]\n",
    "\n",
    "Solution().moveZeroes(nums)\n",
    "\n",
    "print(nums)"
   ]
  },
  {
   "cell_type": "markdown",
   "id": "d65dba8f",
   "metadata": {},
   "source": [
    "Q8 You have a set of integers s, which originally contains all the numbers from 1 to n. Unfortunately, due to some error, one of the numbers in s got duplicated to another number in the set, which results in repetition of one number and loss of another number.\n",
    "\n",
    "You are given an integer array nums representing the data status of this set after the error.\n",
    "\n",
    "Find the number that occurs twice and the number that is missing and return them in the form of an array.\n",
    "\n",
    "**Example 1:**\n",
    "Input: nums = [1,2,2,4]\n",
    "Output: [2,3]\n"
   ]
  },
  {
   "cell_type": "code",
   "execution_count": 145,
   "id": "3decf771",
   "metadata": {},
   "outputs": [
    {
     "name": "stdout",
     "output_type": "stream",
     "text": [
      "[2, 3]\n"
     ]
    }
   ],
   "source": [
    "from collections import Counter\n",
    "\n",
    "mylist = sorted([1, 2, 2, 4])\n",
    "myset = {x for x in range(1, mylist[-1] + 1)}\n",
    "\n",
    "counts = Counter(mylist)  # a dictionary of counts in mylist\n",
    "dup = [x for (x, y) in counts.items() if y == 2]\n",
    "miss = list(myset - set(mylist))\n",
    "\n",
    "print(dup + miss)"
   ]
  }
 ],
 "metadata": {
  "kernelspec": {
   "display_name": "Python 3 (ipykernel)",
   "language": "python",
   "name": "python3"
  },
  "language_info": {
   "codemirror_mode": {
    "name": "ipython",
    "version": 3
   },
   "file_extension": ".py",
   "mimetype": "text/x-python",
   "name": "python",
   "nbconvert_exporter": "python",
   "pygments_lexer": "ipython3",
   "version": "3.9.12"
  }
 },
 "nbformat": 4,
 "nbformat_minor": 5
}
